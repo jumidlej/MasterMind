{
 "cells": [
  {
   "cell_type": "markdown",
   "metadata": {},
   "source": [
    "### Import packages"
   ]
  },
  {
   "cell_type": "code",
   "execution_count": 2,
   "metadata": {},
   "outputs": [],
   "source": [
    "import numpy as np\n",
    "import scipy as sp\n",
    "import scipy.stats\n",
    "import matplotlib.pyplot as plt\n",
    "import pandas as pd\n",
    "from os import listdir"
   ]
  },
  {
   "cell_type": "markdown",
   "metadata": {},
   "source": [
    "### Listar arquivos"
   ]
  },
  {
   "cell_type": "code",
   "execution_count": 3,
   "metadata": {},
   "outputs": [],
   "source": [
    "# list all path's files\n",
    "def listar_arquivos(path=None):\n",
    "    if path == None:\n",
    "        return 0\n",
    "\n",
    "    files = [f for f in listdir(path)]\n",
    "    return files"
   ]
  },
  {
   "cell_type": "markdown",
   "metadata": {},
   "source": [
    "### Get data"
   ]
  },
  {
   "cell_type": "code",
   "execution_count": 4,
   "metadata": {},
   "outputs": [],
   "source": [
    "def get_data(results_file):\n",
    "    results = []\n",
    "    counter = 0\n",
    "    for line in results_file:\n",
    "        counter += 1\n",
    "        if counter%3==0:\n",
    "            results.append(int(line));\n",
    "    return results"
   ]
  },
  {
   "cell_type": "code",
   "execution_count": 16,
   "metadata": {},
   "outputs": [],
   "source": [
    "cachorro = []\n",
    "random = []\n",
    "\n",
    "for puzzlesize in range(3, 9):\n",
    "    cachorro_file = open(\"cachorro/cachorro_a10_p\"+str(puzzlesize)+\".txt\", \"r\");\n",
    "    cachorro.append(get_data(cachorro_file))\n",
    "    random_file = open(\"random/random_a10_p\"+str(puzzlesize)+\".txt\", \"r\");\n",
    "    random.append(get_data(random_file))"
   ]
  },
  {
   "cell_type": "code",
   "execution_count": 17,
   "metadata": {},
   "outputs": [
    {
     "name": "stdout",
     "output_type": "stream",
     "text": [
      "[[13, 22, 23, 3, 7, 17, 18, 8, 7, 24, 12, 11, 25, 16, 7, 12, 9, 19, 6, 18, 7, 18, 9, 12, 8, 9, 21, 12, 10, 8, 10, 9, 14, 14, 8, 14, 24, 28, 9, 15, 19, 10, 10, 6, 21, 38, 6, 6, 24, 18, 6, 4, 24, 15, 14, 17, 22, 9, 10, 18, 17, 6, 20, 19, 11, 6, 7, 4, 6, 27, 9, 14, 13, 11, 5, 9, 20, 22, 7, 15, 8, 15, 6, 14, 9, 11, 40, 13, 32, 11, 14, 6, 3, 17, 12, 18, 10, 23, 10, 19], [7, 27, 18, 16, 17, 21, 11, 21, 17, 20, 24, 19, 16, 23, 13, 18, 12, 12, 22, 32, 39, 23, 27, 14, 12, 9, 16, 17, 11, 20, 24, 41, 13, 13, 18, 18, 26, 31, 11, 17, 10, 7, 23, 11, 32, 15, 13, 15, 11, 11, 47, 9, 13, 35, 10, 17, 9, 25, 16, 9, 13, 27, 17, 17, 28, 31, 15, 38, 16, 11, 31, 30, 25, 33, 14, 13, 16, 9, 24, 19, 15, 8, 20, 24, 16, 20, 28, 14, 14, 22, 20, 8, 19, 10, 17, 28, 23, 10, 22, 10], [29, 52, 51, 19, 21, 12, 17, 16, 45, 33, 20, 34, 20, 21, 38, 35, 22, 18, 17, 30, 12, 26, 17, 24, 24, 20, 35, 19, 24, 11, 21, 35, 20, 7, 21, 22, 32, 35, 9, 17, 23, 14, 35, 40, 34, 38, 22, 26, 25, 13, 29, 13, 21, 19, 32, 30, 33, 25, 48, 25, 36, 14, 25, 22, 34, 23, 33, 19, 22, 20, 13, 24, 27, 41, 18, 19, 40, 23, 14, 31, 16, 26, 20, 14, 24, 20, 19, 37, 25, 36, 15, 27, 28, 28, 21, 17, 24, 27, 35, 26], [31, 30, 48, 39, 26, 42, 26, 25, 25, 27, 37, 31, 23, 36, 30, 31, 15, 41, 62, 27, 32, 39, 41, 28, 42, 40, 51, 51, 37, 28, 18, 40, 27, 49, 34, 22, 52, 33, 45, 24, 28, 20, 54, 44, 35, 92, 22, 27, 69, 50, 16, 51, 63, 16, 39, 34, 33, 36, 41, 14, 25, 42, 29, 30, 45, 29, 58, 15, 19, 26, 26, 24, 35, 27, 24, 27, 41, 23, 31, 37, 59, 23, 24, 26, 49, 34, 35, 49, 26, 62, 43, 32, 38, 22, 37, 53, 29, 33, 19, 18], [33, 17, 73, 48, 65, 33, 75, 33, 60, 46, 70, 76, 61, 65, 43, 66, 31, 34, 62, 19, 60, 26, 43, 62, 40, 31, 85, 58, 79, 56, 38, 46, 64, 46, 52, 31, 35, 46, 39, 57, 24, 35, 25, 38, 88, 54, 50, 35, 71, 52, 49, 58, 44, 19, 80, 60, 32, 39, 42, 38, 50, 54, 61, 56, 32, 42, 55, 28, 40, 77, 66, 31, 20, 22, 26, 18, 56, 40, 51, 53, 48, 50, 43, 62, 52, 66, 66, 81, 26, 39, 135, 48, 38, 27, 36, 50, 42, 55, 81, 51], [115, 85, 31, 88, 69, 40, 45, 61, 81, 67, 64, 107, 101, 97, 109, 74, 97, 102, 42, 74, 54, 79, 78, 135, 46, 61, 49, 50, 108, 40, 74, 75, 80, 69, 20, 55, 100, 27, 46, 124, 122, 58, 81, 85, 108, 40, 79, 70, 68, 93, 148, 88, 72, 116, 47, 27, 57, 63, 109, 78, 112, 62, 67, 82, 62, 55, 41, 54, 43, 42, 61, 44, 121, 86, 157, 113, 35, 57, 82, 113, 52, 98, 77, 49, 76, 117, 43, 78, 88, 57, 84, 34, 46, 26, 53, 75, 48, 92, 56, 123]]\n"
     ]
    }
   ],
   "source": [
    "print(cachorro)"
   ]
  },
  {
   "cell_type": "code",
   "execution_count": 18,
   "metadata": {},
   "outputs": [
    {
     "name": "stdout",
     "output_type": "stream",
     "text": [
      "[[472, 263, 669, 130, 626, 175, 262, 8, 30, 386, 688, 197, 157, 16, 276, 320, 33, 101, 661, 279, 272, 710, 519, 651, 682, 382, 155, 432, 231, 306, 703, 491, 198, 111, 214, 413, 677, 529, 295, 502, 83, 225, 99, 32, 713, 266, 427, 44, 684, 138, 305, 592, 359, 539, 90, 151, 450, 376, 47, 406, 59, 126, 634, 637, 571, 425, 423, 380, 448, 562, 635, 118, 533, 615, 605, 141, 258, 83, 257, 334, 44, 215, 454, 172, 462, 313, 239, 386, 528, 376, 70, 126, 687, 571, 161, 74, 187, 618, 155, 200], [302, 3790, 3952, 4816, 1686, 2635, 1578, 2990, 2804, 1984, 4342, 1438, 3568, 1687, 44, 315, 2449, 1917, 2208, 674, 2384, 4020, 2034, 353, 1299, 2628, 4242, 4704, 2819, 1754, 2810, 1921, 3676, 1620, 3959, 3815, 1812, 2159, 1472, 1160, 188, 291, 1174, 3113, 2940, 3055, 4772, 1509, 4999, 3748, 4693, 2567, 2701, 3747, 310, 2396, 4810, 2665, 1154, 1599, 339, 2590, 4507, 3944, 2545, 249, 687, 2392, 2767, 4772, 547, 2459, 2633, 3235, 2873, 529, 476, 1750, 4217, 1106, 805, 3106, 383, 3704, 3054, 1831, 1977, 3623, 3879, 2918, 536, 565, 1012, 801, 2236, 4690, 358, 3676, 3524, 4468], [16736, 10342, 29194, 10781, 17675, 10675, 24263, 20861, 19157, 22825, 21824, 20270, 14274, 16114, 27120, 1642, 23613, 29618, 6193, 1640, 29998, 18219, 5369, 7042, 11526, 18237, 16468, 23534, 19246, 21853, 23261, 16006, 25960, 3807, 12429, 17648, 5475, 28616, 22270, 1577, 25067, 6253, 21760, 6002, 2769, 3989, 16086, 29026, 10208, 407, 11708, 2213, 15259, 14287, 23954, 6946, 9203, 19321, 17358, 538, 16498, 22746, 11995, 4639, 11781, 5877, 12579, 15657, 3415, 19235, 17094, 19349, 16334, 1693, 6181, 11897, 10151, 4725, 21620, 397, 29182, 24479, 13104, 599, 3551, 27168, 3431, 4471, 14970, 19564, 19742, 19545, 2498, 18284, 1453, 8753, 19742, 14839, 9310, 4475], [98015, 132871, 24254, 51528, 5074, 45300, 30130, 65979, 121712, 113809, 122326, 147179, 71784, 29356, 142770, 77467, 146607, 116344, 38860, 85246, 51752, 658, 13599, 3618, 8241, 79714, 118692, 103822, 136948, 148655, 65052, 44231, 77200, 61054, 124453, 145007, 45890, 137437, 100426, 55644, 52632, 46539, 1161, 102713, 43415, 66710, 115506, 115502, 75236, 96829, 3856, 59884, 130471, 24537, 122762, 68890, 125966, 33586, 12993, 117334, 102593, 67219, 107948, 79487, 54110, 106240, 150026, 63792, 91493, 144223, 82280, 38658, 120066, 80246, 77203, 62661, 133372, 131421, 61799, 111965, 45971, 98947, 54985, 119534, 111802, 150890, 85780, 22277, 140112, 79506, 50507, 74518, 18323, 118258, 95545, 26978, 71368, 118090, 105034, 142247], [343607, 101478, 494825, 66200, 387725, 296121, 38734, 442358, 584894, 417161, 509701, 154410, 120778, 169605, 459183, 255399, 134999, 558724, 352117, 351761, 20604, 294619, 193948, 46821, 349086, 451984, 69616, 300531, 122172, 18665, 109449, 256477, 216175, 381339, 434107, 157682, 133330, 544296, 492451, 418964, 547942, 234841, 52961, 171423, 592374, 146259, 165584, 43461, 433388, 310141, 42095, 163460, 463403, 72096, 553842, 537375, 501014, 187664, 518066, 315234, 290878, 365333, 294418, 272065, 366846, 493397, 232146, 87274, 71757, 198439, 45647, 442198, 232615, 129670, 103487, 415610, 245941, 115336, 246735, 525422, 340908, 208699, 142655, 413890, 169325, 165627, 192556, 240080, 85546, 63934, 358677, 33173, 153834, 554587, 40905, 93686, 181112, 540964, 491765, 273726], [1125680, 581937, 998245, 1366946, 700118, 1209250, 411522, 790959, 1590904, 434090, 1746597, 493976, 1428545, 255205, 1532701, 1017815, 144747, 901982, 1637314, 1768189, 414837, 615284, 148716, 541857, 1773784, 1129504, 131650, 607900, 1277344, 804718, 1656368, 1307600, 1526238, 333925, 32829, 695207, 1282369, 442227, 1553285, 1146660, 1478818, 568289, 1640274, 228073, 453580, 1618081, 1757918, 130710, 373255, 1797544, 662709, 1569905, 124954, 1648961, 442593, 1018176, 692963, 1606693, 992934, 470773, 1421846, 1337981, 662250, 1728260, 572267, 51435, 1303912, 1073453, 1774285, 817534, 259870, 1458582, 651219, 1668659, 197762, 942702, 107585, 499836, 387223, 1025915, 1166534, 67309, 1015722, 673975, 959951, 1067650, 1640551, 1338951, 760334, 645035, 727536, 1192944, 1449283, 1455045, 1018263, 58452, 588123, 1364097, 1131244, 1251022]]\n"
     ]
    }
   ],
   "source": [
    "print(random)"
   ]
  },
  {
   "cell_type": "markdown",
   "metadata": {},
   "source": [
    "### Analyses the results"
   ]
  },
  {
   "cell_type": "code",
   "execution_count": 19,
   "metadata": {},
   "outputs": [
    {
     "data": {
      "text/plain": [
       "count      100.000000\n",
       "mean     14087.350000\n",
       "std       8450.389741\n",
       "min        397.000000\n",
       "25%       6136.250000\n",
       "50%      15114.500000\n",
       "75%      19874.000000\n",
       "max      29998.000000\n",
       "dtype: float64"
      ]
     },
     "execution_count": 19,
     "metadata": {},
     "output_type": "execute_result"
    }
   ],
   "source": [
    "random_data = pd.Series(random[2])\n",
    "random_data.describe()"
   ]
  },
  {
   "cell_type": "code",
   "execution_count": 20,
   "metadata": {},
   "outputs": [
    {
     "data": {
      "text/plain": [
       "count    100.000000\n",
       "mean      25.090000\n",
       "std        9.160847\n",
       "min        7.000000\n",
       "25%       19.000000\n",
       "50%       24.000000\n",
       "75%       32.000000\n",
       "max       52.000000\n",
       "dtype: float64"
      ]
     },
     "execution_count": 20,
     "metadata": {},
     "output_type": "execute_result"
    }
   ],
   "source": [
    "cachorro_data = pd.Series(cachorro[2])\n",
    "cachorro_data.describe()"
   ]
  },
  {
   "cell_type": "code",
   "execution_count": 21,
   "metadata": {},
   "outputs": [
    {
     "data": {
      "text/plain": [
       "<AxesSubplot:ylabel='Frequency'>"
      ]
     },
     "execution_count": 21,
     "metadata": {},
     "output_type": "execute_result"
    },
    {
     "data": {
      "image/png": "[encoded data removed]",
      "text/plain": [
       "<Figure size 432x288 with 1 Axes>"
      ]
     },
     "metadata": {
      "needs_background": "light"
     },
     "output_type": "display_data"
    }
   ],
   "source": [
    "cachorro_data.plot.hist(bins=10)"
   ]
  },
  {
   "cell_type": "code",
   "execution_count": 22,
   "metadata": {},
   "outputs": [
    {
     "data": {
      "text/plain": [
       "<AxesSubplot:ylabel='Frequency'>"
      ]
     },
     "execution_count": 22,
     "metadata": {},
     "output_type": "execute_result"
    },
    {
     "data": {
      "image/png": "[encoded data removed]",
      "text/plain": [
       "<Figure size 432x288 with 1 Axes>"
      ]
     },
     "metadata": {
      "needs_background": "light"
     },
     "output_type": "display_data"
    }
   ],
   "source": [
    "random_data.plot.hist()"
   ]
  },
  {
   "cell_type": "code",
   "execution_count": 23,
   "metadata": {},
   "outputs": [],
   "source": [
    "def mean_confidence_interval(data, confidence=0.95):\n",
    "    a = 1.0*np.array(data)\n",
    "    n = len(a)\n",
    "    m, se = np.mean(a), scipy.stats.sem(a)\n",
    "    h = se * sp.stats.t._ppf((1+confidence)/2., n-1)\n",
    "    print(h)\n",
    "    return m, m-h, m+h"
   ]
  },
  {
   "cell_type": "code",
   "execution_count": 26,
   "metadata": {},
   "outputs": [
    {
     "name": "stdout",
     "output_type": "stream",
     "text": [
      "2.166179165414402\n"
     ]
    }
   ],
   "source": [
    "media_cachorro, minimo_cachorro, maximo_cachorro = mean_confidence_interval(cachorro[2], confidence=0.98)"
   ]
  },
  {
   "cell_type": "code",
   "execution_count": 27,
   "metadata": {},
   "outputs": [
    {
     "name": "stdout",
     "output_type": "stream",
     "text": [
      "25.09\n",
      "22.923820834585598\n",
      "27.2561791654144\n"
     ]
    }
   ],
   "source": [
    "print(media_cachorro)\n",
    "print(minimo_cachorro)\n",
    "print(maximo_cachorro)"
   ]
  },
  {
   "cell_type": "code",
   "execution_count": 28,
   "metadata": {},
   "outputs": [
    {
     "name": "stdout",
     "output_type": "stream",
     "text": [
      "1998.1841113050605\n"
     ]
    }
   ],
   "source": [
    "media, minimo, maximo = mean_confidence_interval(random[2], confidence=0.98)"
   ]
  },
  {
   "cell_type": "code",
   "execution_count": 29,
   "metadata": {},
   "outputs": [
    {
     "name": "stdout",
     "output_type": "stream",
     "text": [
      "14087.35\n",
      "12089.16588869494\n",
      "16085.53411130506\n"
     ]
    }
   ],
   "source": [
    "print(media)\n",
    "print(minimo)\n",
    "print(maximo)"
   ]
  },
  {
   "cell_type": "code",
   "execution_count": 30,
   "metadata": {},
   "outputs": [
    {
     "name": "stdout",
     "output_type": "stream",
     "text": [
      "443.53853910804145\n"
     ]
    }
   ],
   "source": [
    "print(minimo/maximo_cachorro)"
   ]
  },
  {
   "cell_type": "markdown",
   "metadata": {},
   "source": [
    "### Mean"
   ]
  },
  {
   "cell_type": "code",
   "execution_count": 38,
   "metadata": {},
   "outputs": [],
   "source": [
    "# mean\n",
    "cachorro_x = []\n",
    "random_x = []\n",
    "# puzzlesize\n",
    "cachorro_y = []\n",
    "random_y = []\n",
    "\n",
    "for i in range(6):    \n",
    "    cachorro_y.append(sum(cachorro[i])/len(cachorro[i]))\n",
    "    cachorro_x.append(i+3)\n",
    "    random_y.append(sum(random[i])/len(random[i]))\n",
    "    random_x.append(i+3)"
   ]
  },
  {
   "cell_type": "code",
   "execution_count": 42,
   "metadata": {},
   "outputs": [
    {
     "name": "stdout",
     "output_type": "stream",
     "text": [
      "[13.72, 18.79, 25.09, 34.93, 49.11, 73.89]\n"
     ]
    }
   ],
   "source": [
    "print(cachorro_y)"
   ]
  },
  {
   "cell_type": "code",
   "execution_count": 43,
   "metadata": {},
   "outputs": [
    {
     "name": "stdout",
     "output_type": "stream",
     "text": [
      "[341.3, 2400.14, 14087.35, 82027.0, 272255.82, 943508.24]\n"
     ]
    }
   ],
   "source": [
    "print(random_y)"
   ]
  },
  {
   "cell_type": "code",
   "execution_count": 57,
   "metadata": {},
   "outputs": [
    {
     "data": {
      "image/png": "[encoded data removed]",
      "text/plain": [
       "<Figure size 432x288 with 1 Axes>"
      ]
     },
     "metadata": {
      "needs_background": "light"
     },
     "output_type": "display_data"
    }
   ],
   "source": [
    "plt.plot(cachorro_x, cachorro_y)\n",
    "plt.xlabel('Tamanho da senha')\n",
    "plt.ylabel('Média de tentativas')\n",
    "plt.savefig('cachorro.png')\n",
    "plt.show()"
   ]
  },
  {
   "cell_type": "code",
   "execution_count": 58,
   "metadata": {},
   "outputs": [
    {
     "data": {
      "image/png": "[encoded data removed]",
      "text/plain": [
       "<Figure size 432x288 with 1 Axes>"
      ]
     },
     "metadata": {
      "needs_background": "light"
     },
     "output_type": "display_data"
    }
   ],
   "source": [
    "plt.plot(random_x, random_y)\n",
    "plt.xlabel('Tamanho da senha')\n",
    "plt.ylabel('Média de tentativas')\n",
    "plt.savefig('random.png')\n",
    "plt.show()"
   ]
  },
  {
   "cell_type": "code",
   "execution_count": null,
   "metadata": {},
   "outputs": [],
   "source": []
  }
 ],
 "metadata": {
  "kernelspec": {
   "display_name": "datascience",
   "language": "python",
   "name": "datascience"
  },
  "language_info": {
   "codemirror_mode": {
    "name": "ipython",
    "version": 3
   },
   "file_extension": ".py",
   "mimetype": "text/x-python",
   "name": "python",
   "nbconvert_exporter": "python",
   "pygments_lexer": "ipython3",
   "version": "3.8.5"
  }
 },
 "nbformat": 4,
 "nbformat_minor": 4
}
