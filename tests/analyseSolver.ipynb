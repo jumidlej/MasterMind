{
 "cells": [
  {
   "cell_type": "markdown",
   "metadata": {},
   "source": [
    "### Import packages"
   ]
  },
  {
   "cell_type": "code",
   "execution_count": 1,
   "metadata": {},
   "outputs": [],
   "source": [
    "import numpy as np\n",
    "import scipy as sp\n",
    "import scipy.stats\n",
    "import matplotlib.pyplot as plt\n",
    "import pandas as pd"
   ]
  },
  {
   "cell_type": "markdown",
   "metadata": {},
   "source": [
    "### Get data"
   ]
  },
  {
   "cell_type": "code",
   "execution_count": 2,
   "metadata": {},
   "outputs": [],
   "source": [
    "def get_data(results_file):\n",
    "    results = []\n",
    "    counter = 0\n",
    "    for line in results_file:\n",
    "        counter += 1\n",
    "        if counter%3==0:\n",
    "            results.append(int(line));\n",
    "    return results"
   ]
  },
  {
   "cell_type": "code",
   "execution_count": 3,
   "metadata": {},
   "outputs": [],
   "source": [
    "cachorro = []\n",
    "random = []\n",
    "\n",
    "cachorro_file = open(\"resultsCachorro.txt\", \"r\"); \n",
    "random_file = open(\"resultsRandom.txt\", \"r\");\n",
    "\n",
    "cachorro = get_data(cachorro_file)        \n",
    "random = get_data(random_file)"
   ]
  },
  {
   "cell_type": "code",
   "execution_count": 4,
   "metadata": {},
   "outputs": [
    {
     "name": "stdout",
     "output_type": "stream",
     "text": [
      "[29, 52, 51, 19, 21, 12, 17, 16, 45, 33, 20, 34, 20, 21, 38, 35, 22, 18, 17, 30, 12, 26, 17, 24, 24, 20, 35, 19, 24, 11, 21, 35, 20, 7, 21, 22, 32, 35, 9, 17, 23, 14, 35, 40, 34, 38, 22, 26, 25, 13, 29, 13, 21, 19, 32, 30, 33, 25, 48, 25, 36, 14, 25, 22, 34, 23, 33, 19, 22, 20, 13, 24, 27, 41, 18, 19, 40, 23, 14, 31, 16, 26, 20, 14, 24, 20, 19, 37, 25, 36, 15, 27, 28, 28, 21, 17, 24, 27, 35, 26]\n"
     ]
    }
   ],
   "source": [
    "print(cachorro)"
   ]
  },
  {
   "cell_type": "code",
   "execution_count": 5,
   "metadata": {},
   "outputs": [
    {
     "name": "stdout",
     "output_type": "stream",
     "text": [
      "[16736, 10342, 29194, 10781, 17675, 10675, 24263, 20861, 19157, 22825, 21824, 20270, 14274, 16114, 27120, 1642, 23613, 29618, 6193, 1640, 29998, 18219, 5369, 7042, 11526, 18237, 16468, 23534, 19246, 21853, 23261, 16006, 25960, 3807, 12429, 17648, 5475, 28616, 22270, 1577, 25067, 6253, 21760, 6002, 2769, 3989, 16086, 29026, 10208, 407, 11708, 2213, 15259, 14287, 23954, 6946, 9203, 19321, 17358, 538, 16498, 22746, 11995, 4639, 11781, 5877, 12579, 15657, 3415, 19235, 17094, 19349, 16334, 1693, 6181, 11897, 10151, 4725, 21620, 397, 29182, 24479, 13104, 599, 3551, 27168, 3431, 4471, 14970, 19564, 19742, 19545, 2498, 18284, 1453, 8753, 19742, 14839, 9310, 4475]\n"
     ]
    }
   ],
   "source": [
    "print(random)"
   ]
  },
  {
   "cell_type": "markdown",
   "metadata": {},
   "source": [
    "### Analyses the results"
   ]
  },
  {
   "cell_type": "code",
   "execution_count": 6,
   "metadata": {},
   "outputs": [
    {
     "data": {
      "text/plain": [
       "count      100.000000\n",
       "mean     14087.350000\n",
       "std       8450.389741\n",
       "min        397.000000\n",
       "25%       6136.250000\n",
       "50%      15114.500000\n",
       "75%      19874.000000\n",
       "max      29998.000000\n",
       "dtype: float64"
      ]
     },
     "execution_count": 6,
     "metadata": {},
     "output_type": "execute_result"
    }
   ],
   "source": [
    "random_data = pd.Series(random)\n",
    "random_data.describe()"
   ]
  },
  {
   "cell_type": "code",
   "execution_count": 7,
   "metadata": {},
   "outputs": [
    {
     "data": {
      "text/plain": [
       "count    100.000000\n",
       "mean      25.090000\n",
       "std        9.160847\n",
       "min        7.000000\n",
       "25%       19.000000\n",
       "50%       24.000000\n",
       "75%       32.000000\n",
       "max       52.000000\n",
       "dtype: float64"
      ]
     },
     "execution_count": 7,
     "metadata": {},
     "output_type": "execute_result"
    }
   ],
   "source": [
    "cachorro_data = pd.Series(cachorro)\n",
    "cachorro_data.describe()"
   ]
  },
  {
   "cell_type": "code",
   "execution_count": 8,
   "metadata": {},
   "outputs": [
    {
     "data": {
      "text/plain": [
       "<AxesSubplot:ylabel='Frequency'>"
      ]
     },
     "execution_count": 8,
     "metadata": {},
     "output_type": "execute_result"
    },
    {
     "data": {
      "image/png": "[encoded data removed]",
      "text/plain": [
       "<Figure size 432x288 with 1 Axes>"
      ]
     },
     "metadata": {
      "needs_background": "light"
     },
     "output_type": "display_data"
    }
   ],
   "source": [
    "cachorro_data.plot.hist(bins=10)"
   ]
  },
  {
   "cell_type": "code",
   "execution_count": 9,
   "metadata": {},
   "outputs": [
    {
     "data": {
      "text/plain": [
       "<AxesSubplot:ylabel='Frequency'>"
      ]
     },
     "execution_count": 9,
     "metadata": {},
     "output_type": "execute_result"
    },
    {
     "data": {
      "image/png": "[encoded data removed]",
      "text/plain": [
       "<Figure size 432x288 with 1 Axes>"
      ]
     },
     "metadata": {
      "needs_background": "light"
     },
     "output_type": "display_data"
    }
   ],
   "source": [
    "random_data.plot.hist()"
   ]
  },
  {
   "cell_type": "code",
   "execution_count": 22,
   "metadata": {},
   "outputs": [],
   "source": [
    "def mean_confidence_interval(data, confidence=0.95):\n",
    "    a = 1.0*np.array(data)\n",
    "    n = len(a)\n",
    "    m, se = np.mean(a), scipy.stats.sem(a)\n",
    "    h = se * sp.stats.t._ppf((1+confidence)/2., n-1)\n",
    "    print(h)\n",
    "    return m, m-h, m+h"
   ]
  },
  {
   "cell_type": "code",
   "execution_count": 23,
   "metadata": {},
   "outputs": [
    {
     "name": "stdout",
     "output_type": "stream",
     "text": [
      "2.166179165414402\n"
     ]
    }
   ],
   "source": [
    "media_cachorro, minimo_cachorro, maximo_cachorro = mean_confidence_interval(cachorro, confidence=0.98)"
   ]
  },
  {
   "cell_type": "code",
   "execution_count": 20,
   "metadata": {},
   "outputs": [
    {
     "name": "stdout",
     "output_type": "stream",
     "text": [
      "25.09\n",
      "22.923820834585598\n",
      "27.2561791654144\n"
     ]
    }
   ],
   "source": [
    "print(media_cachorro)\n",
    "print(minimo_cachorro)\n",
    "print(maximo_cachorro)"
   ]
  },
  {
   "cell_type": "code",
   "execution_count": 24,
   "metadata": {},
   "outputs": [
    {
     "name": "stdout",
     "output_type": "stream",
     "text": [
      "1998.1841113050605\n"
     ]
    }
   ],
   "source": [
    "media, minimo, maximo = mean_confidence_interval(random, confidence=0.98)"
   ]
  },
  {
   "cell_type": "code",
   "execution_count": 18,
   "metadata": {},
   "outputs": [
    {
     "name": "stdout",
     "output_type": "stream",
     "text": [
      "14087.35\n",
      "12089.16588869494\n",
      "16085.53411130506\n"
     ]
    }
   ],
   "source": [
    "print(media)\n",
    "print(minimo)\n",
    "print(maximo)"
   ]
  },
  {
   "cell_type": "code",
   "execution_count": 21,
   "metadata": {},
   "outputs": [
    {
     "name": "stdout",
     "output_type": "stream",
     "text": [
      "443.53853910804145\n"
     ]
    }
   ],
   "source": [
    "print(minimo/maximo_cachorro)"
   ]
  },
  {
   "cell_type": "code",
   "execution_count": null,
   "metadata": {},
   "outputs": [],
   "source": []
  }
 ],
 "metadata": {
  "kernelspec": {
   "display_name": "datascience",
   "language": "python",
   "name": "datascience"
  },
  "language_info": {
   "codemirror_mode": {
    "name": "ipython",
    "version": 3
   },
   "file_extension": ".py",
   "mimetype": "text/x-python",
   "name": "python",
   "nbconvert_exporter": "python",
   "pygments_lexer": "ipython3",
   "version": "3.8.5"
  }
 },
 "nbformat": 4,
 "nbformat_minor": 4
}
