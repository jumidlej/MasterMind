{
 "cells": [
  {
   "cell_type": "markdown",
   "metadata": {},
   "source": [
    "### Importar bibliotecas"
   ]
  },
  {
   "cell_type": "code",
   "execution_count": null,
   "metadata": {},
   "outputs": [],
   "source": [
    "import matplotlib as plt"
   ]
  },
  {
   "cell_type": "markdown",
   "metadata": {},
   "source": [
    "### Formatar dados"
   ]
  },
  {
   "cell_type": "code",
   "execution_count": 2,
   "metadata": {},
   "outputs": [],
   "source": [
    "def get_data(results_file):\n",
    "    results = []\n",
    "    counter = 0\n",
    "    for line in results_file:\n",
    "        counter += 1\n",
    "        if counter%3==0:\n",
    "            results.append(int(line));\n",
    "    return results"
   ]
  },
  {
   "cell_type": "code",
   "execution_count": 3,
   "metadata": {},
   "outputs": [
    {
     "name": "stdout",
     "output_type": "stream",
     "text": [
      "[54, 16, 15, 44, 20, 17, 23, 26, 45, 24, 27, 24, 33, 28, 25, 10, 12, 11, 36, 16, 16, 22, 23, 27, 17, 19, 19, 12, 20, 33, 33, 11, 24, 18, 25, 17, 25, 31, 16, 36, 19, 19, 49, 22, 33, 22, 12, 9, 29, 24, 26, 27, 33, 24, 15, 33, 20, 41, 35, 20, 10, 29, 34, 35, 35, 64, 16, 14, 42, 36, 28, 11, 15, 6, 31, 50, 22, 43, 38, 66, 32, 33, 18, 17, 10, 25, 20, 37, 23, 24, 46, 19, 29, 27, 9, 15, 26, 31, 22, 23]\n"
     ]
    }
   ],
   "source": [
    "cachorro = []\n",
    "random = []\n",
    "\n",
    "cachorro_file = open(\"resultsCachorro.txt\", \"r\"); \n",
    "random_file = open(\"resultsRandom.txt\", \"r\");\n",
    "\n",
    "cachorro = get_data(cachorro_file)        \n",
    "random = get_data(random_file)"
   ]
  },
  {
   "cell_type": "code",
   "execution_count": 4,
   "metadata": {},
   "outputs": [
    {
     "name": "stdout",
     "output_type": "stream",
     "text": [
      "[54, 16, 15, 44, 20, 17, 23, 26, 45, 24, 27, 24, 33, 28, 25, 10, 12, 11, 36, 16, 16, 22, 23, 27, 17, 19, 19, 12, 20, 33, 33, 11, 24, 18, 25, 17, 25, 31, 16, 36, 19, 19, 49, 22, 33, 22, 12, 9, 29, 24, 26, 27, 33, 24, 15, 33, 20, 41, 35, 20, 10, 29, 34, 35, 35, 64, 16, 14, 42, 36, 28, 11, 15, 6, 31, 50, 22, 43, 38, 66, 32, 33, 18, 17, 10, 25, 20, 37, 23, 24, 46, 19, 29, 27, 9, 15, 26, 31, 22, 23]\n"
     ]
    }
   ],
   "source": [
    "print(cachorro)"
   ]
  },
  {
   "cell_type": "code",
   "execution_count": 5,
   "metadata": {},
   "outputs": [
    {
     "name": "stdout",
     "output_type": "stream",
     "text": [
      "[54, 16, 15, 44, 20, 17, 23, 26, 45, 24, 27, 24, 33, 28, 25, 10, 12, 11, 36, 16, 16, 22, 23, 27, 17, 19, 19, 12, 20, 33, 33, 11, 24, 18, 25, 17, 25, 31, 16, 36, 19, 19, 49, 22, 33, 22, 12, 9, 29, 24, 26, 27, 33, 24, 15, 33, 20, 41, 35, 20, 10, 29, 34, 35, 35, 64, 16, 14, 42, 36, 28, 11, 15, 6, 31, 50, 22, 43, 38, 66, 32, 33, 18, 17, 10, 25, 20, 37, 23, 24, 46, 19, 29, 27, 9, 15, 26, 31, 22, 23]\n"
     ]
    }
   ],
   "source": [
    "print(random)"
   ]
  },
  {
   "cell_type": "code",
   "execution_count": null,
   "metadata": {},
   "outputs": [],
   "source": []
  }
 ],
 "metadata": {
  "kernelspec": {
   "display_name": "datascience",
   "language": "python",
   "name": "datascience"
  },
  "language_info": {
   "codemirror_mode": {
    "name": "ipython",
    "version": 3
   },
   "file_extension": ".py",
   "mimetype": "text/x-python",
   "name": "python",
   "nbconvert_exporter": "python",
   "pygments_lexer": "ipython3",
   "version": "3.8.5"
  }
 },
 "nbformat": 4,
 "nbformat_minor": 4
}
